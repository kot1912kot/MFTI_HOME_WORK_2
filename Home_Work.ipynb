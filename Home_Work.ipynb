{
 "cells": [
  {
   "cell_type": "markdown",
   "id": "1c7cfc49",
   "metadata": {},
   "source": [
    "## Импортируем нужные библиотеки"
   ]
  },
  {
   "cell_type": "code",
   "execution_count": 1,
   "id": "57b56ccf",
   "metadata": {},
   "outputs": [],
   "source": [
    "import pandas as pd\n",
    "import numpy as np\n",
    "from kaggle_environments import make, evaluate\n",
    "import matplotlib.pyplot as plt\n",
    "import seaborn as sns"
   ]
  },
  {
   "cell_type": "markdown",
   "id": "ed952bcd",
   "metadata": {},
   "source": [
    "## Загрузим в файлы наших агентов"
   ]
  },
  {
   "cell_type": "code",
   "execution_count": 2,
   "id": "6a7feb42",
   "metadata": {},
   "outputs": [
    {
     "name": "stdout",
     "output_type": "stream",
     "text": [
      "Overwriting rock.py\n"
     ]
    }
   ],
   "source": [
    "%%writefile rock.py\n",
    "\n",
    "def rock(observation, configuration):\n",
    "    return 0"
   ]
  },
  {
   "cell_type": "code",
   "execution_count": 3,
   "id": "d40bf9aa",
   "metadata": {},
   "outputs": [
    {
     "name": "stdout",
     "output_type": "stream",
     "text": [
      "Overwriting paper.py\n"
     ]
    }
   ],
   "source": [
    "%%writefile paper.py\n",
    "def paper(observation, configuration):\n",
    "    return 1"
   ]
  },
  {
   "cell_type": "code",
   "execution_count": 4,
   "id": "f0416645",
   "metadata": {},
   "outputs": [
    {
     "name": "stdout",
     "output_type": "stream",
     "text": [
      "Overwriting scissors.py\n"
     ]
    }
   ],
   "source": [
    "%%writefile scissors.py\n",
    "def scissors(observation, configuration):\n",
    "    return 2"
   ]
  },
  {
   "cell_type": "code",
   "execution_count": 5,
   "id": "fda01437",
   "metadata": {},
   "outputs": [
    {
     "name": "stdout",
     "output_type": "stream",
     "text": [
      "Overwriting copy_opponent.py\n"
     ]
    }
   ],
   "source": [
    "%%writefile copy_opponent.py\n",
    "\n",
    "import random\n",
    "\n",
    "def copy_opponent(observation, configuration):\n",
    "    if observation.step > 0:\n",
    "        return observation.lastOpponentAction\n",
    "    else:\n",
    "        return random.randrange(0, configuration.signs)"
   ]
  },
  {
   "cell_type": "code",
   "execution_count": 6,
   "id": "78fb8165",
   "metadata": {},
   "outputs": [
    {
     "name": "stdout",
     "output_type": "stream",
     "text": [
      "Overwriting reactionary.py\n"
     ]
    }
   ],
   "source": [
    "%%writefile reactionary.py\n",
    "\n",
    "import random\n",
    "import math\n",
    "\n",
    "\n",
    "def get_score(left_move, right_move):\n",
    "    delta = (\n",
    "        right_move - left_move\n",
    "        if (left_move + right_move) % 2 == 0\n",
    "        else left_move - right_move\n",
    "    )\n",
    "    return 0 if delta == 0 else math.copysign(1, delta)\n",
    "\n",
    "last_react_action = None\n",
    "\n",
    "def reactionary(observation, configuration):\n",
    "    global last_react_action\n",
    "    if observation.step == 0:\n",
    "        last_react_action = random.randrange(0, configuration.signs)\n",
    "    elif get_score(last_react_action, observation.lastOpponentAction) <= 1:\n",
    "        last_react_action = (observation.lastOpponentAction + 1) % configuration.signs\n",
    "\n",
    "    return last_react_action"
   ]
  },
  {
   "cell_type": "code",
   "execution_count": 7,
   "id": "3dcb0f30",
   "metadata": {},
   "outputs": [
    {
     "name": "stdout",
     "output_type": "stream",
     "text": [
      "Overwriting counter_reactionary.py\n"
     ]
    }
   ],
   "source": [
    "%%writefile counter_reactionary.py\n",
    "\n",
    "import random\n",
    "import math\n",
    "\n",
    "last_counter_action = None\n",
    "\n",
    "def get_score(left_move, right_move):\n",
    "    # This method exists in this file so it can be consumed from rps.py and agents.py without a circular dependency\n",
    "    delta = (\n",
    "        right_move - left_move\n",
    "        if (left_move + right_move) % 2 == 0\n",
    "        else left_move - right_move\n",
    "    )\n",
    "    return 0 if delta == 0 else math.copysign(1, delta)\n",
    "\n",
    "def counter_reactionary(observation, configuration):\n",
    "    global last_counter_action\n",
    "    if observation.step == 0:\n",
    "        last_counter_action = random.randrange(0, configuration.signs)\n",
    "    elif get_score(last_counter_action, observation.lastOpponentAction) == 1:\n",
    "        last_counter_action = (last_counter_action + 2) % configuration.signs\n",
    "    else:\n",
    "        last_counter_action = (observation.lastOpponentAction + 1) % configuration.signs\n",
    "\n",
    "    return last_counter_action"
   ]
  },
  {
   "cell_type": "code",
   "execution_count": 8,
   "id": "a8da8b65",
   "metadata": {},
   "outputs": [
    {
     "name": "stdout",
     "output_type": "stream",
     "text": [
      "Overwriting statistical.py\n"
     ]
    }
   ],
   "source": [
    "%%writefile statistical.py\n",
    "\n",
    "import random\n",
    "\n",
    "action_histogram = {}\n",
    "\n",
    "def statistical(observation, configuration):\n",
    "    global action_histogram\n",
    "    if observation.step == 0:\n",
    "        action_histogram = {}\n",
    "        return\n",
    "    action = observation.lastOpponentAction\n",
    "    if action not in action_histogram:\n",
    "        action_histogram[action] = 0\n",
    "    action_histogram[action] += 1\n",
    "    mode_action = None\n",
    "    mode_action_count = None\n",
    "    for k, v in action_histogram.items():\n",
    "        if mode_action_count is None or v > mode_action_count:\n",
    "            mode_action = k\n",
    "            mode_action_count = v\n",
    "            continue\n",
    "\n",
    "    return (mode_action + 1) % configuration.signs"
   ]
  },
  {
   "cell_type": "code",
   "execution_count": 9,
   "id": "a8b081d5",
   "metadata": {},
   "outputs": [
    {
     "name": "stdout",
     "output_type": "stream",
     "text": [
      "Overwriting nash_equilibrium_agent.py\n"
     ]
    }
   ],
   "source": [
    "%%writefile nash_equilibrium_agent.py\n",
    "\n",
    "import random\n",
    "\n",
    "def nash_equilibrium_agent(observation, configuration):\n",
    "    return random.randint(0, 2)"
   ]
  },
  {
   "cell_type": "code",
   "execution_count": 10,
   "id": "d0726d3c",
   "metadata": {},
   "outputs": [
    {
     "name": "stdout",
     "output_type": "stream",
     "text": [
      "Overwriting markov_agent.py\n"
     ]
    }
   ],
   "source": [
    "%%writefile markov_agent.py\n",
    "\n",
    "import numpy as np\n",
    "import collections\n",
    "import random\n",
    "\n",
    "def markov_agent(observation, configuration):\n",
    "    k = 2\n",
    "    global table, action_seq\n",
    "    if observation.step % 250 == 0: # refresh table every 250 steps\n",
    "        action_seq, table = [], collections.defaultdict(lambda: [1, 1, 1])    \n",
    "    if len(action_seq) <= 2 * k + 1:\n",
    "        action = int(np.random.randint(3))\n",
    "        if observation.step > 0:\n",
    "            action_seq.extend([observation.lastOpponentAction, action])\n",
    "        else:\n",
    "            action_seq.append(action)\n",
    "        return action\n",
    "    # update table\n",
    "    key = ''.join([str(a) for a in action_seq[:-1]])\n",
    "    table[key][observation.lastOpponentAction] += 1\n",
    "    # update action seq\n",
    "    action_seq[:-2] = action_seq[2:]\n",
    "    action_seq[-2] = observation.lastOpponentAction\n",
    "    # predict opponent next move\n",
    "    key = ''.join([str(a) for a in action_seq[:-1]])\n",
    "    if observation.step < 500:\n",
    "        next_opponent_action_pred = np.argmax(table[key])\n",
    "    else:\n",
    "        scores = np.array(table[key])\n",
    "        next_opponent_action_pred = np.random.choice(3, p=scores/scores.sum()) # add stochasticity for second part of the game\n",
    "    # make an action\n",
    "    action = (next_opponent_action_pred + 1) % 3\n",
    "    # if high probability to lose -> let's surprise our opponent with sudden change of our strategy\n",
    "    if observation.step > 900:\n",
    "        action = next_opponent_action_pred\n",
    "    action_seq[-1] = action\n",
    "    return int(action)"
   ]
  },
  {
   "cell_type": "code",
   "execution_count": 11,
   "id": "6470fae7",
   "metadata": {},
   "outputs": [
    {
     "name": "stdout",
     "output_type": "stream",
     "text": [
      "Overwriting transition_agent.py\n"
     ]
    }
   ],
   "source": [
    "%%writefile transition_agent.py\n",
    "\n",
    "import numpy as np\n",
    "import pandas as pd\n",
    "import random\n",
    "\n",
    "T = np.zeros((3, 3))\n",
    "P = np.zeros((3, 3))\n",
    "\n",
    "a1, a2 = None, None\n",
    "\n",
    "def transition_agent(observation, configuration):\n",
    "    global T, P, a1, a2\n",
    "    if observation.step > 1:\n",
    "        a1 = observation.lastOpponentAction\n",
    "        T[a2, a1] += 1\n",
    "        P = np.divide(T, np.maximum(1, T.sum(axis=1)).reshape(-1, 1))\n",
    "        a2 = a1\n",
    "        if np.sum(P[a1, :]) == 1:\n",
    "            return int((np.random.choice(\n",
    "                [0, 1, 2],\n",
    "                p=P[a1, :]\n",
    "            ) + 1) % 3)\n",
    "        else:\n",
    "            return int(np.random.randint(3))\n",
    "    else:\n",
    "        if observation.step == 1:\n",
    "            a2 = observation.lastOpponentAction\n",
    "        return int(np.random.randint(3))"
   ]
  },
  {
   "cell_type": "code",
   "execution_count": 12,
   "id": "5a091c32",
   "metadata": {},
   "outputs": [
    {
     "name": "stdout",
     "output_type": "stream",
     "text": [
      "Overwriting rock_paper.py\n"
     ]
    }
   ],
   "source": [
    "%%writefile rock_paper.py\n",
    "\n",
    "import random\n",
    "\n",
    "def rock_paper(observation, configuration):\n",
    "    return random.randint(0, 1)"
   ]
  },
  {
   "cell_type": "code",
   "execution_count": 13,
   "id": "e09d697e",
   "metadata": {},
   "outputs": [
    {
     "name": "stdout",
     "output_type": "stream",
     "text": [
      "Overwriting paper_scissors.py\n"
     ]
    }
   ],
   "source": [
    "%%writefile paper_scissors.py\n",
    "\n",
    "import random\n",
    "\n",
    "def paper_scissors(observation, configuration):\n",
    "    return random.randint(1, 2)"
   ]
  },
  {
   "cell_type": "markdown",
   "id": "0bee68cb",
   "metadata": {},
   "source": [
    "## Реализация поединка"
   ]
  },
  {
   "cell_type": "code",
   "execution_count": 14,
   "id": "480207b0",
   "metadata": {},
   "outputs": [],
   "source": [
    "# Сохраним агентов в список\n",
    "agents = [\n",
    "    \"rock\",\n",
    "    \"paper\",\n",
    "    \"scissors\",\n",
    "    \"copy_opponent\",\n",
    "    \"reactionary\",\n",
    "    \"counter_reactionary\",\n",
    "    \"statistical\",\n",
    "    \"nash_equilibrium_agent\",\n",
    "    \"markov_agent\",\n",
    "    \"transition_agent\",\n",
    "    \"rock_paper\",\n",
    "    \"paper_scissors\"\n",
    "]"
   ]
  },
  {
   "cell_type": "code",
   "execution_count": 15,
   "id": "81d99ea3",
   "metadata": {},
   "outputs": [
    {
     "data": {
      "text/plain": [
       "['rock.py',\n",
       " 'paper.py',\n",
       " 'scissors.py',\n",
       " 'copy_opponent.py',\n",
       " 'reactionary.py',\n",
       " 'counter_reactionary.py',\n",
       " 'statistical.py',\n",
       " 'nash_equilibrium_agent.py',\n",
       " 'markov_agent.py',\n",
       " 'transition_agent.py',\n",
       " 'rock_paper.py',\n",
       " 'paper_scissors.py']"
      ]
     },
     "execution_count": 15,
     "metadata": {},
     "output_type": "execute_result"
    }
   ],
   "source": [
    "# Добавим к имени каждого агента расширение .py\n",
    "lst_a = [i + \".py\" for i in agents]\n",
    "lst_a"
   ]
  },
  {
   "cell_type": "code",
   "execution_count": 16,
   "id": "a3ee998c",
   "metadata": {},
   "outputs": [
    {
     "data": {
      "text/plain": [
       "12"
      ]
     },
     "execution_count": 16,
     "metadata": {},
     "output_type": "execute_result"
    }
   ],
   "source": [
    "# Создадим переменную для хранения длины списка с агентами\n",
    "num_agents = len(agents)\n",
    "num_agents"
   ]
  },
  {
   "cell_type": "code",
   "execution_count": 17,
   "id": "81ae85d7",
   "metadata": {},
   "outputs": [
    {
     "data": {
      "text/plain": [
       "array([[0., 0., 0., 0., 0., 0., 0., 0., 0., 0., 0., 0.],\n",
       "       [0., 0., 0., 0., 0., 0., 0., 0., 0., 0., 0., 0.],\n",
       "       [0., 0., 0., 0., 0., 0., 0., 0., 0., 0., 0., 0.],\n",
       "       [0., 0., 0., 0., 0., 0., 0., 0., 0., 0., 0., 0.],\n",
       "       [0., 0., 0., 0., 0., 0., 0., 0., 0., 0., 0., 0.],\n",
       "       [0., 0., 0., 0., 0., 0., 0., 0., 0., 0., 0., 0.],\n",
       "       [0., 0., 0., 0., 0., 0., 0., 0., 0., 0., 0., 0.],\n",
       "       [0., 0., 0., 0., 0., 0., 0., 0., 0., 0., 0., 0.],\n",
       "       [0., 0., 0., 0., 0., 0., 0., 0., 0., 0., 0., 0.],\n",
       "       [0., 0., 0., 0., 0., 0., 0., 0., 0., 0., 0., 0.],\n",
       "       [0., 0., 0., 0., 0., 0., 0., 0., 0., 0., 0., 0.],\n",
       "       [0., 0., 0., 0., 0., 0., 0., 0., 0., 0., 0., 0.]])"
      ]
     },
     "execution_count": 17,
     "metadata": {},
     "output_type": "execute_result"
    }
   ],
   "source": [
    "# Создадим нулевую матрицу, в которую мы будем записывать результаты наших игр\n",
    "scores = np.zeros((num_agents, num_agents))\n",
    "scores"
   ]
  },
  {
   "cell_type": "code",
   "execution_count": 18,
   "id": "e1f28253",
   "metadata": {},
   "outputs": [],
   "source": [
    "# Запишем результаты наших игр через цикл в созданную нулевую матрицу\n",
    "for i in range(num_agents):\n",
    "    for j in range(i + 1, num_agents):\n",
    "        \n",
    "        result = evaluate(\n",
    "            \"rps\", \n",
    "            [lst_a[i], lst_a[j]], \n",
    "            configuration={\"episodeSteps\": 100},\n",
    "            num_episodes = 1\n",
    "            )\n",
    "        \n",
    "        scores[i, j] = result[0][0]\n",
    "        scores[j, i] = result[0][1]"
   ]
  },
  {
   "cell_type": "code",
   "execution_count": 19,
   "id": "db4b0bfa",
   "metadata": {},
   "outputs": [
    {
     "data": {
      "text/html": [
       "<div>\n",
       "<style scoped>\n",
       "    .dataframe tbody tr th:only-of-type {\n",
       "        vertical-align: middle;\n",
       "    }\n",
       "\n",
       "    .dataframe tbody tr th {\n",
       "        vertical-align: top;\n",
       "    }\n",
       "\n",
       "    .dataframe thead th {\n",
       "        text-align: right;\n",
       "    }\n",
       "</style>\n",
       "<table border=\"1\" class=\"dataframe\">\n",
       "  <thead>\n",
       "    <tr style=\"text-align: right;\">\n",
       "      <th></th>\n",
       "      <th>rock</th>\n",
       "      <th>paper</th>\n",
       "      <th>scissors</th>\n",
       "      <th>copy_opponent</th>\n",
       "      <th>reactionary</th>\n",
       "      <th>counter_reactionary</th>\n",
       "      <th>statistical</th>\n",
       "      <th>nash_equilibrium_agent</th>\n",
       "      <th>markov_agent</th>\n",
       "      <th>transition_agent</th>\n",
       "      <th>rock_paper</th>\n",
       "      <th>paper_scissors</th>\n",
       "    </tr>\n",
       "  </thead>\n",
       "  <tbody>\n",
       "    <tr>\n",
       "      <th>rock</th>\n",
       "      <td>0.0</td>\n",
       "      <td>-99.0</td>\n",
       "      <td>99.0</td>\n",
       "      <td>0.0</td>\n",
       "      <td>-99.0</td>\n",
       "      <td>-50.0</td>\n",
       "      <td>-98.0</td>\n",
       "      <td>0.0</td>\n",
       "      <td>-94.0</td>\n",
       "      <td>-98.0</td>\n",
       "      <td>-51.0</td>\n",
       "      <td>0.0</td>\n",
       "    </tr>\n",
       "    <tr>\n",
       "      <th>paper</th>\n",
       "      <td>99.0</td>\n",
       "      <td>0.0</td>\n",
       "      <td>-99.0</td>\n",
       "      <td>0.0</td>\n",
       "      <td>-99.0</td>\n",
       "      <td>-49.0</td>\n",
       "      <td>-97.0</td>\n",
       "      <td>0.0</td>\n",
       "      <td>-83.0</td>\n",
       "      <td>-97.0</td>\n",
       "      <td>49.0</td>\n",
       "      <td>-46.0</td>\n",
       "    </tr>\n",
       "    <tr>\n",
       "      <th>scissors</th>\n",
       "      <td>-99.0</td>\n",
       "      <td>99.0</td>\n",
       "      <td>0.0</td>\n",
       "      <td>0.0</td>\n",
       "      <td>-97.0</td>\n",
       "      <td>-48.0</td>\n",
       "      <td>-99.0</td>\n",
       "      <td>0.0</td>\n",
       "      <td>-72.0</td>\n",
       "      <td>-99.0</td>\n",
       "      <td>0.0</td>\n",
       "      <td>56.0</td>\n",
       "    </tr>\n",
       "    <tr>\n",
       "      <th>copy_opponent</th>\n",
       "      <td>0.0</td>\n",
       "      <td>0.0</td>\n",
       "      <td>0.0</td>\n",
       "      <td>0.0</td>\n",
       "      <td>-50.0</td>\n",
       "      <td>99.0</td>\n",
       "      <td>-21.0</td>\n",
       "      <td>0.0</td>\n",
       "      <td>-76.0</td>\n",
       "      <td>0.0</td>\n",
       "      <td>0.0</td>\n",
       "      <td>0.0</td>\n",
       "    </tr>\n",
       "    <tr>\n",
       "      <th>reactionary</th>\n",
       "      <td>99.0</td>\n",
       "      <td>99.0</td>\n",
       "      <td>97.0</td>\n",
       "      <td>50.0</td>\n",
       "      <td>0.0</td>\n",
       "      <td>-97.0</td>\n",
       "      <td>49.0</td>\n",
       "      <td>0.0</td>\n",
       "      <td>-73.0</td>\n",
       "      <td>0.0</td>\n",
       "      <td>26.0</td>\n",
       "      <td>25.0</td>\n",
       "    </tr>\n",
       "    <tr>\n",
       "      <th>counter_reactionary</th>\n",
       "      <td>50.0</td>\n",
       "      <td>49.0</td>\n",
       "      <td>48.0</td>\n",
       "      <td>-99.0</td>\n",
       "      <td>97.0</td>\n",
       "      <td>0.0</td>\n",
       "      <td>0.0</td>\n",
       "      <td>0.0</td>\n",
       "      <td>-76.0</td>\n",
       "      <td>-95.0</td>\n",
       "      <td>0.0</td>\n",
       "      <td>0.0</td>\n",
       "    </tr>\n",
       "    <tr>\n",
       "      <th>statistical</th>\n",
       "      <td>98.0</td>\n",
       "      <td>97.0</td>\n",
       "      <td>99.0</td>\n",
       "      <td>21.0</td>\n",
       "      <td>-49.0</td>\n",
       "      <td>0.0</td>\n",
       "      <td>0.0</td>\n",
       "      <td>0.0</td>\n",
       "      <td>-34.0</td>\n",
       "      <td>-36.0</td>\n",
       "      <td>0.0</td>\n",
       "      <td>0.0</td>\n",
       "    </tr>\n",
       "    <tr>\n",
       "      <th>nash_equilibrium_agent</th>\n",
       "      <td>0.0</td>\n",
       "      <td>0.0</td>\n",
       "      <td>0.0</td>\n",
       "      <td>0.0</td>\n",
       "      <td>0.0</td>\n",
       "      <td>0.0</td>\n",
       "      <td>0.0</td>\n",
       "      <td>0.0</td>\n",
       "      <td>0.0</td>\n",
       "      <td>0.0</td>\n",
       "      <td>0.0</td>\n",
       "      <td>0.0</td>\n",
       "    </tr>\n",
       "    <tr>\n",
       "      <th>markov_agent</th>\n",
       "      <td>94.0</td>\n",
       "      <td>83.0</td>\n",
       "      <td>72.0</td>\n",
       "      <td>76.0</td>\n",
       "      <td>73.0</td>\n",
       "      <td>76.0</td>\n",
       "      <td>34.0</td>\n",
       "      <td>0.0</td>\n",
       "      <td>0.0</td>\n",
       "      <td>0.0</td>\n",
       "      <td>43.0</td>\n",
       "      <td>0.0</td>\n",
       "    </tr>\n",
       "    <tr>\n",
       "      <th>transition_agent</th>\n",
       "      <td>98.0</td>\n",
       "      <td>97.0</td>\n",
       "      <td>99.0</td>\n",
       "      <td>0.0</td>\n",
       "      <td>0.0</td>\n",
       "      <td>95.0</td>\n",
       "      <td>36.0</td>\n",
       "      <td>0.0</td>\n",
       "      <td>0.0</td>\n",
       "      <td>0.0</td>\n",
       "      <td>0.0</td>\n",
       "      <td>27.0</td>\n",
       "    </tr>\n",
       "    <tr>\n",
       "      <th>rock_paper</th>\n",
       "      <td>51.0</td>\n",
       "      <td>-49.0</td>\n",
       "      <td>0.0</td>\n",
       "      <td>0.0</td>\n",
       "      <td>-26.0</td>\n",
       "      <td>0.0</td>\n",
       "      <td>0.0</td>\n",
       "      <td>0.0</td>\n",
       "      <td>-43.0</td>\n",
       "      <td>0.0</td>\n",
       "      <td>0.0</td>\n",
       "      <td>-35.0</td>\n",
       "    </tr>\n",
       "    <tr>\n",
       "      <th>paper_scissors</th>\n",
       "      <td>0.0</td>\n",
       "      <td>46.0</td>\n",
       "      <td>-56.0</td>\n",
       "      <td>0.0</td>\n",
       "      <td>-25.0</td>\n",
       "      <td>0.0</td>\n",
       "      <td>0.0</td>\n",
       "      <td>0.0</td>\n",
       "      <td>0.0</td>\n",
       "      <td>-27.0</td>\n",
       "      <td>35.0</td>\n",
       "      <td>0.0</td>\n",
       "    </tr>\n",
       "  </tbody>\n",
       "</table>\n",
       "</div>"
      ],
      "text/plain": [
       "                        rock  paper  scissors  copy_opponent  reactionary  \\\n",
       "rock                     0.0  -99.0      99.0            0.0        -99.0   \n",
       "paper                   99.0    0.0     -99.0            0.0        -99.0   \n",
       "scissors               -99.0   99.0       0.0            0.0        -97.0   \n",
       "copy_opponent            0.0    0.0       0.0            0.0        -50.0   \n",
       "reactionary             99.0   99.0      97.0           50.0          0.0   \n",
       "counter_reactionary     50.0   49.0      48.0          -99.0         97.0   \n",
       "statistical             98.0   97.0      99.0           21.0        -49.0   \n",
       "nash_equilibrium_agent   0.0    0.0       0.0            0.0          0.0   \n",
       "markov_agent            94.0   83.0      72.0           76.0         73.0   \n",
       "transition_agent        98.0   97.0      99.0            0.0          0.0   \n",
       "rock_paper              51.0  -49.0       0.0            0.0        -26.0   \n",
       "paper_scissors           0.0   46.0     -56.0            0.0        -25.0   \n",
       "\n",
       "                        counter_reactionary  statistical  \\\n",
       "rock                                  -50.0        -98.0   \n",
       "paper                                 -49.0        -97.0   \n",
       "scissors                              -48.0        -99.0   \n",
       "copy_opponent                          99.0        -21.0   \n",
       "reactionary                           -97.0         49.0   \n",
       "counter_reactionary                     0.0          0.0   \n",
       "statistical                             0.0          0.0   \n",
       "nash_equilibrium_agent                  0.0          0.0   \n",
       "markov_agent                           76.0         34.0   \n",
       "transition_agent                       95.0         36.0   \n",
       "rock_paper                              0.0          0.0   \n",
       "paper_scissors                          0.0          0.0   \n",
       "\n",
       "                        nash_equilibrium_agent  markov_agent  \\\n",
       "rock                                       0.0         -94.0   \n",
       "paper                                      0.0         -83.0   \n",
       "scissors                                   0.0         -72.0   \n",
       "copy_opponent                              0.0         -76.0   \n",
       "reactionary                                0.0         -73.0   \n",
       "counter_reactionary                        0.0         -76.0   \n",
       "statistical                                0.0         -34.0   \n",
       "nash_equilibrium_agent                     0.0           0.0   \n",
       "markov_agent                               0.0           0.0   \n",
       "transition_agent                           0.0           0.0   \n",
       "rock_paper                                 0.0         -43.0   \n",
       "paper_scissors                             0.0           0.0   \n",
       "\n",
       "                        transition_agent  rock_paper  paper_scissors  \n",
       "rock                               -98.0       -51.0             0.0  \n",
       "paper                              -97.0        49.0           -46.0  \n",
       "scissors                           -99.0         0.0            56.0  \n",
       "copy_opponent                        0.0         0.0             0.0  \n",
       "reactionary                          0.0        26.0            25.0  \n",
       "counter_reactionary                -95.0         0.0             0.0  \n",
       "statistical                        -36.0         0.0             0.0  \n",
       "nash_equilibrium_agent               0.0         0.0             0.0  \n",
       "markov_agent                         0.0        43.0             0.0  \n",
       "transition_agent                     0.0         0.0            27.0  \n",
       "rock_paper                           0.0         0.0           -35.0  \n",
       "paper_scissors                     -27.0        35.0             0.0  "
      ]
     },
     "execution_count": 19,
     "metadata": {},
     "output_type": "execute_result"
    }
   ],
   "source": [
    "# Сохраним наши значения в ДатаФрейме\n",
    "df = pd.DataFrame(scores, index=agents, columns=agents)\n",
    "df"
   ]
  },
  {
   "cell_type": "code",
   "execution_count": 20,
   "id": "223027c6",
   "metadata": {},
   "outputs": [
    {
     "data": {
      "image/png": "[encoded data removed]",
      "text/plain": [
       "<Figure size 936x576 with 2 Axes>"
      ]
     },
     "metadata": {
      "needs_background": "light"
     },
     "output_type": "display_data"
    }
   ],
   "source": [
    "# построим тепловую матрицу для наглядности результатов\n",
    "plt.figure(figsize=(13, 8))\n",
    "sns.heatmap(df, annot=True)\n",
    "plt.xticks(rotation=90, fontsize=13)\n",
    "plt.yticks(fontsize=13);"
   ]
  },
  {
   "cell_type": "code",
   "execution_count": null,
   "id": "89dcb4db",
   "metadata": {},
   "outputs": [],
   "source": []
  }
 ],
 "metadata": {
  "kernelspec": {
   "display_name": "Python 3 (ipykernel)",
   "language": "python",
   "name": "python3"
  },
  "language_info": {
   "codemirror_mode": {
    "name": "ipython",
    "version": 3
   },
   "file_extension": ".py",
   "mimetype": "text/x-python",
   "name": "python",
   "nbconvert_exporter": "python",
   "pygments_lexer": "ipython3",
   "version": "3.9.7"
  }
 },
 "nbformat": 4,
 "nbformat_minor": 5
}
